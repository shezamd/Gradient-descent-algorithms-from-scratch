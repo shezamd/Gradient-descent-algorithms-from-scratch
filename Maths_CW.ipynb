{
  "nbformat": 4,
  "nbformat_minor": 0,
  "metadata": {
    "colab": {
      "name": "Maths CW.ipynb",
      "provenance": [],
      "mount_file_id": "16JDfsvymVe1mui86wvspfbfOxg9nIkqt",
      "authorship_tag": "ABX9TyO+TMGGwZwb3nftCI2h85Sd",
      "include_colab_link": true
    },
    "kernelspec": {
      "name": "python3",
      "display_name": "Python 3"
    }
  },
  "cells": [
    {
      "cell_type": "markdown",
      "metadata": {
        "id": "view-in-github",
        "colab_type": "text"
      },
      "source": [
        "<a href=\"https://colab.research.google.com/github/shezamd/Gender-prediction-model/blob/master/Maths_CW.ipynb\" target=\"_parent\"><img src=\"https://colab.research.google.com/assets/colab-badge.svg\" alt=\"Open In Colab\"/></a>"
      ]
    },
    {
      "cell_type": "code",
      "metadata": {
        "id": "D7KuUgqZ-9fD"
      },
      "source": [
        "#Data\r\n",
        "\r\n",
        "import numpy as np\r\n",
        "import pandas as pd\r\n",
        "import matplotlib.pyplot as plt\r\n",
        "from sklearn.preprocessing import MinMaxScaler\r\n",
        "\r\n",
        "names = ['GRE Score', 'TOEFL Score', 'University Rating', 'SOP', 'LOR ', 'CGPA', 'Research', 'Chance of Admit '] \r\n",
        "\r\n",
        "\r\n",
        "data = np.genfromtxt('/content/drive/MyDrive/Admission Data/Admission_Predict_Ver1.1.csv', delimiter=',') # read the data\r\n",
        "my_data = pd.read_csv('/content/drive/MyDrive/Admission Data/Admission_Predict_Ver1.1.csv',names=names) #read the data\r\n",
        "\r\n",
        "\r\n",
        "X_train = my_data.iloc[1:400,0:7]\r\n",
        "X_test = my_data.iloc[401:,0:7]\r\n",
        "\r\n",
        "y_train = data[1:400, -1].reshape(-1,1)\r\n",
        "y_test = data[401:, -1].reshape(-1,1)\r\n",
        "\r\n",
        "#Inilising the weights\r\n",
        "theta = np.zeros([1,8])\r\n",
        "\r\n",
        "#Normalising data\r\n",
        "scaler = MinMaxScaler()\r\n",
        "scaler.fit(X_train)\r\n",
        "X_train = scaler.transform(X_train)\r\n",
        "X_test = scaler.transform(X_test)\r\n",
        "\r\n",
        "ones = np.ones([X_train.shape[0],1])\r\n",
        "X_train = np.concatenate((ones,X_train),axis=1)\r\n",
        "ones_1 = np.ones([X_test.shape[0], 1])\r\n",
        "X_test = np.concatenate((ones_1,X_test),axis=1)\r\n",
        "\r\n",
        "#Loss function\r\n",
        "def SSE(X,y,theta):\r\n",
        "    summed = np.power(((X @ theta.T)-y),2)\r\n",
        "    return np.sum(summed) * 0.5\r\n"
      ],
      "execution_count": 5,
      "outputs": []
    },
    {
      "cell_type": "code",
      "metadata": {
        "colab": {
          "base_uri": "https://localhost:8080/",
          "height": 363
        },
        "id": "wzoXWvSfYWvZ",
        "outputId": "c72bd7ff-1b8b-4276-d99d-babe6eab26f5"
      },
      "source": [
        "#Standart Gradient descent\r\n",
        "rate  = 0.0001\r\n",
        "def StandartGradientDescent(X,y,theta,rate):\r\n",
        "    cost = np.zeros(len(X))\r\n",
        "    for i in range(len(X)):\r\n",
        "        theta = theta - rate * np.sum((X @ theta.T - y) * X, axis=0)\r\n",
        "        cost[i] = SSE(X, y, theta)\r\n",
        "    return theta,cost\r\n",
        "\r\n",
        "#Run the gd and cost function\r\n",
        "weights, cost = StandartGradientDescent(X_train,y_train,theta,rate)\r\n",
        "print(weights)\r\n",
        "\r\n",
        "#plot the cost\r\n",
        "fig, ax = plt.subplots()  \r\n",
        "ax.plot(np.arange(len(X_train)), cost, 'r')  \r\n",
        "ax.set_xlabel('Iterations')  \r\n",
        "ax.set_ylabel('Cost')  \r\n",
        "ax.set_title('Cost vs. Iterations') \r\n",
        "\r\n",
        "#Testing \r\n",
        "y_pred = weights @ X_test.T\r\n",
        "y_test = np.squeeze(np.asarray(y_test)) ##Convert matrix to array\r\n",
        "y_pred = np.squeeze(np.asarray(y_pred))\r\n",
        "\r\n",
        "#Root Mean Square Error(RMSE)\r\n",
        "def RMSE(y_pred, y_test):\r\n",
        "  N = len(y_test)\r\n",
        "  rmse = sum((y_test - y_pred)**2)/N\r\n",
        "  rmse = np.sqrt(rmse)\r\n",
        "  return rmse\r\n",
        "\r\n",
        "print(RMSE(y_pred, y_test))\r\n",
        "\r\n",
        "#R Square  \r\n",
        "def r_squared(y_pred, y_test):\r\n",
        "    y_mean = sum(y_test)/len(y_test)\r\n",
        "    RSS = sum((y_test - y_pred)**2)\r\n",
        "    TSS = sum((y_test - y_mean)**2)\r\n",
        "    return (1 - (RSS/TSS))\r\n",
        "\r\n",
        "print(r_squared(y_pred, y_test))"
      ],
      "execution_count": 13,
      "outputs": [
        {
          "output_type": "stream",
          "text": [
            "[[0.33653246 0.1182764  0.12212137 0.05824123 0.08048286 0.12098008\n",
            "  0.15422131 0.02310858]]\n",
            "0.048211793606543915\n",
            "0.8717323944703783\n"
          ],
          "name": "stdout"
        },
        {
          "output_type": "display_data",
          "data": {
            "image/png": "[encoded data removed]",
            "text/plain": [
              "<Figure size 432x288 with 1 Axes>"
            ]
          },
          "metadata": {
            "tags": [],
            "needs_background": "light"
          }
        }
      ]
    },
    {
      "cell_type": "code",
      "metadata": {
        "id": "8FJQKmFemxsZ",
        "colab": {
          "base_uri": "https://localhost:8080/",
          "height": 363
        },
        "outputId": "50c6d75b-4ec3-4e96-eb5a-bcd28eb51dc1"
      },
      "source": [
        "#Stochastic Gradient Descent \r\n",
        "\r\n",
        "rate = 0.01\r\n",
        "def StochasticGradientDescent(X,y,theta, rate):\r\n",
        "    cost = np.zeros(len(X))\r\n",
        "    for i in range(len(X)):\r\n",
        "        theta  = theta - rate * ((X[i] @ theta.T - y[i]) *  X[i])   \r\n",
        "        cost[i] = SSE(X, y, theta)\r\n",
        "    return theta, cost\r\n",
        "\r\n",
        "#Run the gd and cost function\r\n",
        "weights, cost = StochasticGradientDescent(X_train,y_train,theta, rate)\r\n",
        "print(weights)\r\n",
        "\r\n",
        "#Plot cost vs iteration graph\r\n",
        "fig, ax = plt.subplots()  \r\n",
        "ax.plot(np.arange(len(X_train)), cost, 'r')  \r\n",
        "ax.set_xlabel('Iterations')  \r\n",
        "ax.set_ylabel('Cost')  \r\n",
        "ax.set_title('Cost vs. Iterations') \r\n",
        "\r\n",
        "#Testing \r\n",
        "y_pred = weights @ X_test.T\r\n",
        "y_test = np.squeeze(np.asarray(y_test)) ##Convert matrix to array\r\n",
        "y_pred = np.squeeze(np.asarray(y_pred))\r\n",
        "\r\n",
        "#Root Mean Square Error(RMSE)\r\n",
        "def RMSE(y_pred, y_test):\r\n",
        "  N = len(y_test)\r\n",
        "  rmse = sum((y_test - y_pred)**2)/N\r\n",
        "  rmse = np.sqrt(rmse)\r\n",
        "  return rmse\r\n",
        "\r\n",
        "print(RMSE(y_pred, y_test))\r\n",
        "\r\n",
        "#R Square  \r\n",
        "def r_squared(y_pred, y_test):\r\n",
        "    y_mean = sum(y_test)/len(y_test)\r\n",
        "    RSS = sum((y_test - y_pred)**2)\r\n",
        "    TSS = sum((y_test - y_mean)**2)\r\n",
        "    return (1 - (RSS/TSS))\r\n",
        "\r\n",
        "print(r_squared(y_pred, y_test))\r\n"
      ],
      "execution_count": 14,
      "outputs": [
        {
          "output_type": "stream",
          "text": [
            "[[0.26771685 0.12446681 0.12810703 0.10648708 0.12458409 0.13172336\n",
            "  0.13356464 0.07260058]]\n",
            "0.0651561986057663\n",
            "0.7657271898800879\n"
          ],
          "name": "stdout"
        },
        {
          "output_type": "display_data",
          "data": {
            "image/png": "[encoded data removed]",
            "text/plain": [
              "<Figure size 432x288 with 1 Axes>"
            ]
          },
          "metadata": {
            "tags": [],
            "needs_background": "light"
          }
        }
      ]
    },
    {
      "cell_type": "code",
      "metadata": {
        "id": "GW9mRfCMm1Sl",
        "colab": {
          "base_uri": "https://localhost:8080/",
          "height": 363
        },
        "outputId": "9cb24ccb-09ff-4a37-f106-ddd0a59feaa4"
      },
      "source": [
        "#Mini-batch Gradient Descent\r\n",
        "\r\n",
        "rate = 0.01\r\n",
        "batch = 5\r\n",
        "def MBGradientDescent(X,y,theta, rate, batch):\r\n",
        "    cost = np.zeros(400//batch)\r\n",
        "    for i in range(0 , 400, batch):\r\n",
        "        theta = theta - rate * np.sum((X[i:i+batch] @ theta.T - y[i:i+batch]) * X[i:i+batch], axis=0)  \r\n",
        "        cost[i:i+batch] = SSE(X, y, theta)\r\n",
        "    return theta ,cost\r\n",
        "\r\n",
        "#Run the GD and cost function\r\n",
        "weights, cost = MBGradientDescent(X_train,y_train,theta ,rate ,batch)\r\n",
        "print(weights)\r\n",
        "\r\n",
        "#Plot cost vs iteration graph\r\n",
        "fig, ax = plt.subplots()  \r\n",
        "ax.plot(np.arange(0, 400, batch), cost, 'r')  \r\n",
        "ax.set_xlabel('Iterations')  \r\n",
        "ax.set_ylabel('Cost')  \r\n",
        "ax.set_title('Error vs. Training Epoch') \r\n",
        "\r\n",
        "#Testing \r\n",
        "y_pred = weights @ X_test.T\r\n",
        "y_test = np.squeeze(np.asarray(y_test)) ##Convert matrix to array\r\n",
        "y_pred = np.squeeze(np.asarray(y_pred))\r\n",
        "\r\n",
        "#Root Mean Square Error(RMSE)\r\n",
        "def RMSE(y_pred, y_test):\r\n",
        "  N = len(y_test)\r\n",
        "  rmse = sum((y_test - y_pred)**2)/N\r\n",
        "  rmse = np.sqrt(rmse)\r\n",
        "  return rmse\r\n",
        "\r\n",
        "print(RMSE(y_pred, y_test))\r\n",
        "\r\n",
        "#R Square  \r\n",
        "def r_squared(y_pred, y_test):\r\n",
        "    y_mean = sum(y_test)/len(y_test)\r\n",
        "    RSS = sum((y_test - y_pred)**2)\r\n",
        "    TSS = sum((y_test - y_mean)**2)\r\n",
        "    return (1 - (RSS/TSS))\r\n",
        "\r\n",
        "print(r_squared(y_pred, y_test))"
      ],
      "execution_count": 20,
      "outputs": [
        {
          "output_type": "stream",
          "text": [
            "[[0.26857014 0.12474627 0.12823596 0.105744   0.12423277 0.13107185\n",
            "  0.13357258 0.07232364]]\n",
            "0.06485990393780863\n",
            "0.7678530338688668\n"
          ],
          "name": "stdout"
        },
        {
          "output_type": "display_data",
          "data": {
            "image/png": "[encoded data removed]",
            "text/plain": [
              "<Figure size 432x288 with 1 Axes>"
            ]
          },
          "metadata": {
            "tags": [],
            "needs_background": "light"
          }
        }
      ]
    }
  ]
}